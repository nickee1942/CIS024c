{
 "cells": [
  {
   "cell_type": "markdown",
   "metadata": {},
   "source": [
    "\n",
    "# CIS024C - Fall 2017 - Thursday 5:30-9:25pm \n",
    "\n",
    "## Homework 9\n",
    "\n",
    "Homework 9 covers exercises that involve the creation and execution of command line Python programs and passing arguments to a Python program.\n",
    "\n",
    "The below sites have some interesting and useful information on working with files\n",
    "\n",
    "http://www.pythonforbeginners.com/argv/more-fun-with-sys-argv\n",
    "https://docs.python.org/2/library/argparse.html\n",
    "\n",
    "You will need to download this notebook and use this as a starting point for your homework. You will just need to fill in the content of each code-block (cell) and execute. Once you have completed all the exercises, you will need to save and upload this to your github repository under a folder called hw9.\n",
    "\n",
    "Note also the exercises build on top of one another so you might be able to do the next exercise if you have not completed the previous exercise.\n",
    "\n",
    "Post any questions you have on our Slack at **cis-024c1.slack.com**\n",
    "\n",
    "** Slides ** for Week 9 can be found at \n",
    "\n",
    "https://drive.google.com/open?id=15v1bLJ5ek5Z8mY3bZDOj67o4H3Ojhxuk-8ICI_FY6O4\n",
    "\n",
    "**Please refer back to hw1 and slack for instructions on how to setup your computer for developing using Python.**"
   ]
  },
  {
   "cell_type": "markdown",
   "metadata": {},
   "source": [
    "### Helpful Jupyter Commands\n",
    "\n",
    "Below are some useful commands to know when using Jupyter\n",
    "\n",
    "1. You can add a new cell by clicking on the \"+\" icon on top.\n",
    "2. You can delete a cell by selecting that cell and clicking on the \"scissors\" icon on top.\n",
    "3. You can execute a cell by either pressing shift+enter or selecting the \"play\" button on top.\n",
    "4. You can create a new file in Jupyter via the File menu->New Notebook option. Make sure to select Python 2 when creating your notebook.\n",
    "5. Also, for your code blocks make sure that Code is selected instead of another option like Markdown.\n",
    "6. Use the Enter key to go to the next line in a cell to enter the next statement.\n",
    "7. You can clear results by clicking on the Cell menu item and selecting Current Output->Clear or All Output->Clear depending on whether you are trying to just clear the output for one cell or for all cells.\n",
    "8. In case your program has crashed for some reason (infinite loop, for example), you can restart your Python session by select Kernel in the menu and selecting Restart.\n"
   ]
  },
  {
   "cell_type": "markdown",
   "metadata": {},
   "source": [
    "#### Check Python Version"
   ]
  },
  {
   "cell_type": "code",
   "execution_count": 1,
   "metadata": {},
   "outputs": [
    {
     "name": "stdout",
     "output_type": "stream",
     "text": [
      "Python 2.7.12 :: Continuum Analytics, Inc.\r\n"
     ]
    }
   ],
   "source": [
    "!python --version"
   ]
  },
  {
   "cell_type": "markdown",
   "metadata": {},
   "source": [
    "#### Sample Exercises with Exception Handling\n",
    "\n",
    "Week 9 Class Work can be found here\n",
    "\n",
    "https://github.com/cis024c/fall2017classwork/tree/master/week9"
   ]
  },
  {
   "cell_type": "markdown",
   "metadata": {},
   "source": [
    "**Exercise 1 - Testing your knowledge of command line programs **\n",
    "\n",
    "Answer the below questions\n",
    "\n",
    "1. What is the benefit of executing a program from the command line as opposed to running it from within an editor like Jupyter or Spyder.\n",
    "2. Name a Python library that you would use in order to pass arguments from the command line"
   ]
  },
  {
   "cell_type": "markdown",
   "metadata": {},
   "source": [
    "1.Jupyter autosave .ipynb format file, but the python program should be the .py format. Jupyter better fit for quick and small prgram test. Develop bigger programs by using Command Line with be much convenient.<br>\n",
    "2.\"Sys\" or \"argparse\" and I got another one online named \"optparse\""
   ]
  },
  {
   "cell_type": "markdown",
   "metadata": {},
   "source": [
    "#### Exercise 2 -  Creating and executing a command line program\n",
    "\n",
    "Write a Python program that gets two numbers from the user and displays the sum of the two numbers. Make sure to make this program a .py file, something you can run from the command line.\n",
    "\n",
    "**Note:**\n",
    "* You can use the %%writeline magic command in Jupyter to create this file, or you can simply use an external editor to create this file. Please refer to classwork in Github for examples."
   ]
  },
  {
   "cell_type": "code",
   "execution_count": 1,
   "metadata": {},
   "outputs": [
    {
     "name": "stdout",
     "output_type": "stream",
     "text": [
      "Overwriting main_j.py\n"
     ]
    }
   ],
   "source": [
    "%%writefile main_j.py\n",
    "\n",
    "num1 = input(\"Enter number1: \")\n",
    "num2 = input(\"Enter number2: \")\n",
    "\n",
    "print num1 + num2"
   ]
  },
  {
   "cell_type": "code",
   "execution_count": 3,
   "metadata": {},
   "outputs": [
    {
     "name": "stdout",
     "output_type": "stream",
     "text": [
      "Enter number1: ^C\n",
      "Traceback (most recent call last):\n",
      "  File \"main_j.py\", line 2, in <module>\n",
      "    num1 = input(\"Enter number1: \")\n",
      "KeyboardInterrupt\n"
     ]
    }
   ],
   "source": [
    "!python main_j.py"
   ]
  },
  {
   "cell_type": "markdown",
   "metadata": {},
   "source": [
    "#### Exercise 3 - Accepting arguments from the command line\n",
    "\n",
    "Repeat the command line program above, however, this time, instead of accepting the numbers from the user using raw_input, pass in the two numbers as command line arguments.\n",
    "\n",
    "**Note**\n",
    "You can use sys.argv or argparse, whichever you are more comfortable with."
   ]
  },
  {
   "cell_type": "code",
   "execution_count": 11,
   "metadata": {},
   "outputs": [
    {
     "name": "stdout",
     "output_type": "stream",
     "text": [
      "Overwriting main2.py\n"
     ]
    }
   ],
   "source": [
    "%%writefile main2.py\n",
    "import sys\n",
    "\n",
    "num1 = int(sys.argv[1])\n",
    "num2 = int(sys.argv[2])\n",
    "s = num1+ num2\n",
    "print s"
   ]
  },
  {
   "cell_type": "markdown",
   "metadata": {},
   "source": [
    "#### Exercise 4 - Command Line programs with multiple modules\n",
    "\n",
    "This is also an extension to Exercises 2 and 3.\n",
    "\n",
    "Write a Python program to add two numbers. Your Python program must have a function called **add** that is placed in a separate module called **helper.py**. Your main program, which is also a standalone Python program **main.py** must import **helper.py** and use this module to add the two numbers. \n",
    "\n",
    "The numbers to be added must be passed via the command line.\n",
    "\n",
    "Here is an example of how your program would be invoked assuming the numbers to be added are 3 and 2\n",
    "\n",
    "**python main.py 3 2**\n",
    "\n",
    "\n",
    "\n"
   ]
  },
  {
   "cell_type": "code",
   "execution_count": 13,
   "metadata": {},
   "outputs": [
    {
     "name": "stdout",
     "output_type": "stream",
     "text": [
      "Overwriting main.py\n"
     ]
    }
   ],
   "source": [
    "%%writefile main.py\n",
    "import sys\n",
    "sys.path.append('/Volumes/HDD')\n",
    "import helper\n",
    "add = helper.add(int(sys.argv[1]),int(sys.argv[2]))\n",
    "print add"
   ]
  },
  {
   "cell_type": "markdown",
   "metadata": {},
   "source": [
    "#### Exercise 5 - Python program with multiple modules to sort a list of numbers\n",
    "\n",
    "Write a Python program to sort a list of numbers in ascending order. Your Python program must have a function called **sortNumbers** that is placed in a separate module called **sorthelper.py**. This function **sortNumbers** accepts a **list** of numbers. Your main program, which is also a standalone Python program **main.py** must import **sorthelper.py** and use this module to sort the numbers. \n",
    "\n",
    "The numbers to be sorted must be passed via the command line.\n",
    "\n",
    "Here is an example of how your program would be invoked assuming the numbers to be sorted are 5 4 3 and 8\n",
    "\n",
    "**python main.py 5 4 3 8**"
   ]
  },
  {
   "cell_type": "code",
   "execution_count": 42,
   "metadata": {},
   "outputs": [
    {
     "name": "stdout",
     "output_type": "stream",
     "text": [
      "Overwriting sortlist.py\n"
     ]
    }
   ],
   "source": [
    "%%writefile sortlist.py\n",
    "import sys\n",
    "sys.path.append('/Volumes/HDD')\n",
    "import sorthelper\n",
    "if len(sys.argv)>0:\n",
    "    templist = sys.argv[1].split(\" \")\n",
    "#mylist = templist.split(\" \")\n",
    "sort = sorthelper.sortNumbers(templist)\n",
    "print sort"
   ]
  },
  {
   "cell_type": "markdown",
   "metadata": {},
   "source": [
    "## OPTIONAL EXERCISES\n",
    "\n",
    "Below is a set of optional exercises. These will not be graded but the solutions will be posted. I would strongly encourage you to try these out if you are done with the mandatory homework exercises to improve your understanding of python."
   ]
  },
  {
   "cell_type": "markdown",
   "metadata": {},
   "source": [
    "#### Exercise 6\n",
    "\n",
    "Repeat Exercise 4 using argparse module"
   ]
  },
  {
   "cell_type": "code",
   "execution_count": 52,
   "metadata": {},
   "outputs": [
    {
     "name": "stdout",
     "output_type": "stream",
     "text": [
      "Overwriting main.py\n"
     ]
    }
   ],
   "source": [
    "%%writefile main.py\n",
    "import sys\n",
    "import argparse\n",
    "sys.path.append('/Volumes/HDD')\n",
    "import helper\n",
    "parser = argparse.ArgumentParser()\n",
    "parser.add_argument('a')\n",
    "parser.add_argument('b')\n",
    "args = parser.parse_args()\n",
    "add = helper.add(int(args.a),int(args.b))\n",
    "\n",
    "print add"
   ]
  },
  {
   "cell_type": "markdown",
   "metadata": {},
   "source": [
    "#### Exercise 7\n",
    "\n",
    "Repeat Exercise 5 using argparse module"
   ]
  },
  {
   "cell_type": "code",
   "execution_count": 59,
   "metadata": {},
   "outputs": [
    {
     "name": "stdout",
     "output_type": "stream",
     "text": [
      "Overwriting sortlist.py\n"
     ]
    }
   ],
   "source": [
    "%%writefile sortlist.py\n",
    "import sys\n",
    "import argparse\n",
    "sys.path.append('/Volumes/HDD')\n",
    "import sorthelper\n",
    "parser = argparse.ArgumentParser()\n",
    "parser.add_argument(\"int\",metavar=\"int\",type=int,nargs='+')\n",
    "args = parser.parse_args()\n",
    "\n",
    "sort = sorthelper.sortNumbers(args)\n",
    "print sort"
   ]
  },
  {
   "cell_type": "code",
   "execution_count": null,
   "metadata": {
    "collapsed": true
   },
   "outputs": [],
   "source": []
  }
 ],
 "metadata": {
  "kernelspec": {
   "display_name": "Python 2",
   "language": "python",
   "name": "python2"
  },
  "language_info": {
   "codemirror_mode": {
    "name": "ipython",
    "version": 2
   },
   "file_extension": ".py",
   "mimetype": "text/x-python",
   "name": "python",
   "nbconvert_exporter": "python",
   "pygments_lexer": "ipython2",
   "version": "2.7.13"
  }
 },
 "nbformat": 4,
 "nbformat_minor": 2
}
