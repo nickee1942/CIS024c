{
 "cells": [
  {
   "cell_type": "markdown",
   "metadata": {},
   "source": [
    "\n",
    "# CIS024C - Fall 2017 - Thursday 5:30-9:25pm \n",
    "## Homework 2\n",
    "\n",
    "Homework 2 covers exercises in Conditionals and Repetition. It involves the user of the if..elif..else statements and the for/while loops.\n",
    "\n",
    "You will need to download this notebook and use this as a starting point for your homework. You will just need to fill in the content of each code-block (cell) and execute. Once you have completed all the exercises, you will need to save and upload this to your github repository under a folder called hw2.\n",
    "\n",
    "Note also the exercises build on top of one another so you might be able to do the next exercise if you have not completed the previous exercise.\n",
    "\n",
    "Post any questions you have on our Slack at **cis-024c1.slack.com**\n",
    "\n",
    "<h3><font color='red'>\n",
    "ALL THE WORK THAT WE DID IN CLASS DURING WEEK 2 IS NOW IN GITHUB AT THE BELOW LINK\n",
    "</font></h3>\n",
    "\n",
    "https://github.com/cis024c/fall2017classwork/blob/master/week2/week2.ipynb\n",
    "\n",
    "\n",
    "**Please refer back to hw1 and slack for instructions on how to setup your computer for developing using Python.**"
   ]
  },
  {
   "cell_type": "markdown",
   "metadata": {},
   "source": [
    "### Helpful Jupyter Commands\n",
    "\n",
    "Below are some useful commands to know when using Jupyter\n",
    "\n",
    "1. You can add a new cell by clicking on the \"+\" icon on top.\n",
    "2. You can delete a cell by selecting that cell and clicking on the \"scissors\" icon on top.\n",
    "3. You can execute a cell by either pressing shift+enter or selecting the \"play\" button on top.\n",
    "4. You can create a new file in Jupyter via the File menu->New Notebook option. Make sure to select Python 2 when creating your notebook.\n",
    "5. Also, for your code blocks make sure that Code is selected instead of another option like Markdown.\n",
    "6. Use the Enter key to go to the next line in a cell to enter the next statement.\n",
    "7. You can clear results by clicking on the Cell menu item and selecting Current Output->Clear or All Output->Clear depending on whether you are trying to just clear the output for one cell or for all cells.\n",
    "8. In case your program has crashed for some reason (infinite loop, for example), you can restart your Python session by select Kernel in the menu and selecting Restart.\n"
   ]
  },
  {
   "cell_type": "markdown",
   "metadata": {},
   "source": [
    "#### Check Python Version"
   ]
  },
  {
   "cell_type": "code",
   "execution_count": 13,
   "metadata": {},
   "outputs": [
    {
     "name": "stdout",
     "output_type": "stream",
     "text": [
      "Python 2.7.12 :: Continuum Analytics, Inc.\r\n"
     ]
    }
   ],
   "source": [
    "!python --version"
   ]
  },
  {
   "cell_type": "markdown",
   "metadata": {},
   "source": [
    "#### Sample Exercises with conditionals and repetitions\n",
    "\n",
    "Refer to Week 2 classwork 2 for sample exercises - https://github.com/cis024c/fall2017classwork/blob/master/week2/week2.ipynb"
   ]
  },
  {
   "cell_type": "markdown",
   "metadata": {},
   "source": [
    "#### Exercise 1 - if statement\n",
    "\n",
    "Write a python program to accept a number from the user. Use the **if** statement to check to see if the number is greater than 100. If the number is greater than 100, print the message \"Found a number greater than 100\""
   ]
  },
  {
   "cell_type": "code",
   "execution_count": 14,
   "metadata": {
    "collapsed": true
   },
   "outputs": [],
   "source": [
    "inputNumber = input(\"Enter a number \")\n",
    "\n",
    "if inputNumber > 100:\n",
    "    print \"Found a number greater than 100\""
   ]
  },
  {
   "cell_type": "markdown",
   "metadata": {},
   "source": [
    "#### Exercise 2 - if...else statement\n",
    "\n",
    "Write a python program to accept the name of a user. Use the **if** statement to check to see if the name is \"Joe\". If the name is \"Joe\", print the message \"User Joe was entered\", otherwise if the name is not \"Joe\", print a message saying that \"User Joe was not entered\" "
   ]
  },
  {
   "cell_type": "code",
   "execution_count": 15,
   "metadata": {
    "collapsed": true
   },
   "outputs": [],
   "source": [
    "userName = raw_input(\"Enter a name \")\n",
    "\n",
    "if userName == \"Joe\":   \n",
    "    print \"User Joe was entered\"    \n",
    "else:\n",
    "    print \"User Joe was not entered\""
   ]
  },
  {
   "cell_type": "markdown",
   "metadata": {},
   "source": [
    "#### Exercise 3 - if..elif...else statement\n",
    "\n",
    "Write a python program to accept the salary of the user. \n",
    "\n",
    "If the salary is **less than 70,000**, then print the message \"User salary is less than 70000\", otherwise if the salary is **less than 100,000**, print the message \"User salary is less than 100,000, otherwise, print the message \"User salary is greater than or equal to 100,000\""
   ]
  },
  {
   "cell_type": "code",
   "execution_count": 16,
   "metadata": {
    "collapsed": true
   },
   "outputs": [],
   "source": [
    "userSalary = input(\"Enter your salary \")\n",
    "\n",
    "if userSalary < 70000:\n",
    "    print \"User salary is less than 70,000 \"\n",
    "elif userSalary < 100000 and userSalary > 70000:\n",
    "    print \"User salary is less than 100,000\"\n",
    "else:\n",
    "    print \"User salary is greater than 100,000\""
   ]
  },
  {
   "cell_type": "markdown",
   "metadata": {},
   "source": [
    "#### Exercise 4 - for loop\n",
    "\n",
    "Write a program to get a number from the user. Find the some of all numbers from 1 to the number that the user entered.\n",
    "\n",
    "For example, if the user enters 10, then you would need to find the sum of all numbers from 1 to 10 like so. Use the range statement in the for loop...see week 2 classwork for more information on the range statement\n",
    "\n",
    "\n",
    "```\n",
    "1+2+3+4+5+6+7+8+9+10\n",
    "```\n",
    "\n",
    "Print the result"
   ]
  },
  {
   "cell_type": "code",
   "execution_count": 66,
   "metadata": {},
   "outputs": [
    {
     "name": "stdout",
     "output_type": "stream",
     "text": [
      "Enter a postive number 10\n",
      "The sum of all intgers from 1 to your input number is \n",
      "55\n"
     ]
    }
   ],
   "source": [
    "userNumber = input(\"Enter a postive number \")\n",
    "total = 0\n",
    "\n",
    "for num in range(1,userNumber+1):\n",
    "    total = num + total\n",
    "\n",
    "print \"The sum of all intgers from 1 to your input number is \" \n",
    "print total"
   ]
  },
  {
   "cell_type": "markdown",
   "metadata": {},
   "source": [
    "#### Exercise - while loop\n",
    "\n",
    "**Guessing a number.**\n",
    "\n",
    "Initialize a variable called **myNumber** to any arbitrary value. For example, maybe you thought of a number 9\n",
    "\n",
    "Use the **while** loop to ask the user to enter a number. Check to see if the number entered by the user matches the number **myNumber** that you thought of. If there is a match, **break** from the **while** loop and print \"Yippee! User guessed the right number\". If there is no match allow the **while** loop to continue to ask the user for a number until a match is found\n"
   ]
  },
  {
   "cell_type": "code",
   "execution_count": 1,
   "metadata": {},
   "outputs": [
    {
     "name": "stdout",
     "output_type": "stream",
     "text": [
      "Enter a number:9\n",
      "Please try another number\n",
      "Enter a number:0\n",
      "Please try another number\n",
      "Enter a number:7\n",
      "Yippee! User guessed the right number\n"
     ]
    }
   ],
   "source": [
    "myNumber = 7\n",
    "\n",
    "while True:\n",
    "    number = int(raw_input(\"Enter a number:\"))\n",
    "    \n",
    "    if number == myNumber:\n",
    "        print \"Yippee! User guessed the right number\"\n",
    "        break\n",
    "    else:\n",
    "        print \"Please try another number\"\n",
    "    "
   ]
  },
  {
   "cell_type": "markdown",
   "metadata": {},
   "source": [
    "## OPTIONAL EXERCISES\n",
    "\n",
    "Below is a set of optional exercises. These will not be graded but the solutions will be posted. I would strongly encourage you to try these out if you are done with the mandatory homework exercises to improve your understanding of python."
   ]
  },
  {
   "cell_type": "markdown",
   "metadata": {},
   "source": [
    "#### Exercise 6\n",
    "\n",
    "Write a Python program to convert temperatures to and from celsius, fahrenheit.\n",
    "\n",
    "[ Formula : c/5 = f-32/9 [ where c = temperature in celsius and f = temperature in fahrenheit ] "
   ]
  },
  {
   "cell_type": "code",
   "execution_count": 11,
   "metadata": {},
   "outputs": [
    {
     "name": "stdout",
     "output_type": "stream",
     "text": [
      "Celsius please enter c, fahrenheit please enter f:c\n",
      "Enter a temperature 30\n",
      "30 celsius = 86.0 fahrenheit\n"
     ]
    }
   ],
   "source": [
    "temperatureFormat = (raw_input(\"Celsius please enter c, fahrenheit please enter f: \"))\n",
    "userTemperature = input(\"Enter a temperature \")\n",
    "\n",
    "if temperatureFormat == \"c\":\n",
    "    fahrenheit = userTemperature*9/5 + 32.0\n",
    "    print \"%d celsius = %s fahrenheit\" %(userTemperature,fahrenheit)\n",
    "elif temperatureFormat == \"f\":\n",
    "    celsius = (5*userTemperature - 160.0)/9\n",
    "    print \"%d fahrenheit = %s celsius\" %(userTemperature,celsius)\n"
   ]
  },
  {
   "cell_type": "markdown",
   "metadata": {},
   "source": [
    "#### Exercise 7\n",
    "\n",
    "Write a Python program that prints all the numbers from 0 to 10 except 1 and 5. Use the **for** loop"
   ]
  },
  {
   "cell_type": "code",
   "execution_count": 9,
   "metadata": {},
   "outputs": [
    {
     "name": "stdout",
     "output_type": "stream",
     "text": [
      "0\n",
      "2\n",
      "3\n",
      "4\n",
      "6\n",
      "7\n",
      "8\n",
      "9\n",
      "10\n"
     ]
    }
   ],
   "source": [
    "j = 0\n",
    "i = 2\n",
    "h = 6\n",
    "\n",
    "for j in range (0,1):\n",
    "    print \"%d\" %(j)\n",
    "    \n",
    "for i in range (2,5):\n",
    "    print \"%d\" %(i)\n",
    "    \n",
    "for h in range (6,11):\n",
    "    print \"%d\" %(h)\n",
    "        "
   ]
  },
  {
   "cell_type": "markdown",
   "metadata": {},
   "source": [
    "#### Exercise 8\n",
    "\n",
    "Write a Python program that reads two integers representing a month and day and prints the season for that month and day. Refer to this URL https://www.timeanddate.com/calendar/aboutseasons.html for when a season starts and ends in North America (Northern Meteorological Seasons)"
   ]
  },
  {
   "cell_type": "code",
   "execution_count": 100,
   "metadata": {},
   "outputs": [
    {
     "name": "stdout",
     "output_type": "stream",
     "text": [
      "Enter a month from 1 to 12: 2\n",
      "Enter a day: 2\n",
      "2/2 is in Winter\n"
     ]
    }
   ],
   "source": [
    "userMonth = raw_input(\"Enter a month from 1 to 12: \")\n",
    "userDay = input(\"Enter a day: \")\n",
    "\n",
    "for spring in [\"3\",\"4\",\"5\"]:\n",
    "    if spring == userMonth:\n",
    "        print (\"%s/%s is in Spring\") % (userMonth,userDay)\n",
    "        break\n",
    "    \n",
    "for summer in [\"6\",\"7\",\"8\"]:\n",
    "    if userMonth == summer:\n",
    "        print (\"%s/%s is in Summer\") % (userMonth,userDay)\n",
    "        break\n",
    "    \n",
    "for autumn in [\"9\",\"10\",\"11\"]:\n",
    "    if userMonth == autumn:\n",
    "        print(\"%s/%s is in Autumn\") % (userMonth,userDay)\n",
    "    \n",
    "for winter in [\"12\",\"1\",\"2\"]:\n",
    "    if winter == userMonth:\n",
    "        print(\"%s/%s is in Winter\") % (userMonth,userDay)\n",
    "        break"
   ]
  },
  {
   "cell_type": "markdown",
   "metadata": {},
   "source": [
    "#### Exercise 9\n",
    "\n",
    "Use a **while** loop to ask the user to enter a number. Print a running total of all the numbers that the user enters. If the user enters 0, break from the while loop."
   ]
  },
  {
   "cell_type": "code",
   "execution_count": 36,
   "metadata": {},
   "outputs": [
    {
     "name": "stdout",
     "output_type": "stream",
     "text": [
      "Enter a number to add or enter 0 to end: 2\n",
      "The sum is 2\n",
      "Enter a number to add or enter 0 to end: 3\n",
      "The sum is 5\n",
      "Enter a number to add or enter 0 to end: 4\n",
      "The sum is 9\n",
      "Enter a number to add or enter 0 to end: 5\n",
      "The sum is 14\n",
      "Enter a number to add or enter 0 to end: 6\n",
      "The sum is 20\n",
      "Enter a number to add or enter 0 to end: 7\n",
      "The sum is 27\n",
      "Enter a number to add or enter 0 to end: 0\n",
      "The total sum is 27, bye~\n"
     ]
    }
   ],
   "source": [
    "theSum = 0\n",
    "\n",
    "while 1:\n",
    "    userNumber = input(\"Enter a number to add or enter 0 to end: \")\n",
    "    \n",
    "    if userNumber !=0:\n",
    "        theSum += userNumber\n",
    "        print \"The sum is %d\" % (theSum)\n",
    "    elif userNumber ==0:\n",
    "        print \"The total sum is %d, bye~\" % (theSum)\n",
    "        break\n",
    "        \n",
    "\n",
    "    "
   ]
  },
  {
   "cell_type": "markdown",
   "metadata": {},
   "source": [
    "#### Exercise 10\n",
    "\n",
    "Write a Python program to create the multiplication table (from 1 to 10) of a number. Use the formatted print statements that you learnt in Week 2 and the **for** loop to print this table.\n",
    "\n",
    "Input a number: 6                                                       \n",
    "6 x 1 = 6                                                               \n",
    "6 x 2 = 12                                                              \n",
    "6 x 3 = 18                                                              \n",
    "6 x 4 = 24                                                              \n",
    "6 x 5 = 30                                                              \n",
    "6 x 6 = 36                                                              \n",
    "6 x 7 = 42                                                              \n",
    "6 x 8 = 48                                                              \n",
    "6 x 9 = 54                                                              \n",
    "6 x 10 = 60 "
   ]
  },
  {
   "cell_type": "code",
   "execution_count": 99,
   "metadata": {},
   "outputs": [
    {
     "name": "stdout",
     "output_type": "stream",
     "text": [
      " 1x1= 1   1x2= 2   1x3= 3   1x4= 4   1x5= 5   1x6= 6   1x7= 7   1x8= 8   1x9= 9   1x10=10   \n",
      " 2x1= 2   2x2= 4   2x3= 6   2x4= 8   2x5=10   2x6=12   2x7=14   2x8=16   2x9=18   2x10=20   \n",
      " 3x1= 3   3x2= 6   3x3= 9   3x4=12   3x5=15   3x6=18   3x7=21   3x8=24   3x9=27   3x10=30   \n",
      " 4x1= 4   4x2= 8   4x3=12   4x4=16   4x5=20   4x6=24   4x7=28   4x8=32   4x9=36   4x10=40   \n",
      " 5x1= 5   5x2=10   5x3=15   5x4=20   5x5=25   5x6=30   5x7=35   5x8=40   5x9=45   5x10=50   \n",
      " 6x1= 6   6x2=12   6x3=18   6x4=24   6x5=30   6x6=36   6x7=42   6x8=48   6x9=54   6x10=60   \n",
      " 7x1= 7   7x2=14   7x3=21   7x4=28   7x5=35   7x6=42   7x7=49   7x8=56   7x9=63   7x10=70   \n",
      " 8x1= 8   8x2=16   8x3=24   8x4=32   8x5=40   8x6=48   8x7=56   8x8=64   8x9=72   8x10=80   \n",
      " 9x1= 9   9x2=18   9x3=27   9x4=36   9x5=45   9x6=54   9x7=63   9x8=72   9x9=81   9x10=90   \n",
      "10x1=10  10x2=20  10x3=30  10x4=40  10x5=50  10x6=60  10x7=70  10x8=80  10x9=90  10x10=100   \n",
      "Enter a number to see the multiply table: 6\n",
      "6x 1= 6 \n",
      "6x 2=12 \n",
      "6x 3=18 \n",
      "6x 4=24 \n",
      "6x 5=30 \n",
      "6x 6=36 \n",
      "6x 7=42 \n",
      "6x 8=48 \n",
      "6x 9=54 \n",
      "6x10=60 \n"
     ]
    }
   ],
   "source": [
    "row = 1\n",
    "column = 1\n",
    "\n",
    "for row in range (1,11):\n",
    "    for column in range (1,11):\n",
    "        result = row * column\n",
    "        print (\"%2dx%d=%2d \" ) % (row,column,result),\n",
    "    print \" \"\n",
    "        \n",
    "userNumber = input(\"Enter a number to see the multiply table: \")\n",
    "\n",
    "for column in range (1,11):\n",
    "    result = userNumber * column\n",
    "    print (\"%dx%2d=%2d \") % (userNumber,column,result)\n",
    "\n",
    "        \n",
    "    \n",
    "    "
   ]
  }
 ],
 "metadata": {
  "kernelspec": {
   "display_name": "Python 2",
   "language": "python",
   "name": "python2"
  },
  "language_info": {
   "codemirror_mode": {
    "name": "ipython",
    "version": 2
   },
   "file_extension": ".py",
   "mimetype": "text/x-python",
   "name": "python",
   "nbconvert_exporter": "python",
   "pygments_lexer": "ipython2",
   "version": "2.7.13"
  }
 },
 "nbformat": 4,
 "nbformat_minor": 2
}
